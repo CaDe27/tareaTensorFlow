{
 "cells": [
  {
   "cell_type": "code",
   "execution_count": 2,
   "metadata": {},
   "outputs": [],
   "source": [
    "#leo el archivo y lo meto en una lista\n",
    "arr = []\n",
    "readfile = open('datos/adult_data.txt', \"r\")\n",
    "for line in readfile:\n",
    "    stri = line[0:len(line)-2]\n",
    "    stri = stri.split(\", \")\n",
    "    arr.append(stri)\n",
    "\n",
    "arr = arr[:len(arr)-1]"
   ]
  },
  {
   "cell_type": "code",
   "execution_count": 8,
   "metadata": {},
   "outputs": [],
   "source": [
    "#eliminamos el atributo 2\n",
    "for i in arr:\n",
    "    del i[2]\n",
    "#convierte los datos numéricos a int (están en string)\n",
    "atributos = len(arr[0])\n",
    "for i in arr:\n",
    "    for j in range(atributos):\n",
    "        try:\n",
    "            i[j] = int(i[j])\n",
    "        except:\n",
    "            pass"
   ]
  },
  {
   "cell_type": "code",
   "execution_count": 12,
   "metadata": {},
   "outputs": [],
   "source": [
    "#leo el archivo y lo meto en una lista\n",
    "arr_pruebas = []\n",
    "readfile = open('datos/adult_test.txt', \"r\")\n",
    "for line in readfile:\n",
    "    stri = line[0:len(line)-2]\n",
    "    stri = stri.split(\", \")\n",
    "    arr_pruebas.append(stri)\n",
    "\n",
    "arr_pruebas = arr_pruebas[:len(arr_pruebas)-1]"
   ]
  },
  {
   "cell_type": "code",
   "execution_count": 13,
   "metadata": {},
   "outputs": [],
   "source": [
    "#eliminamos el atributo 2\n",
    "for i in arr_pruebas:\n",
    "    del i[2]\n",
    "#convierte los datos numéricos a int (están en string)\n",
    "atributos = len(arr_pruebas[0])\n",
    "for i in arr_pruebas:\n",
    "    for j in range(atributos):\n",
    "        try:\n",
    "            i[j] = int(i[j])\n",
    "        except:\n",
    "            pass"
   ]
  },
  {
   "cell_type": "code",
   "execution_count": 16,
   "metadata": {},
   "outputs": [],
   "source": [
    "import pandas as pd\n",
    "atributos = ['edad', 'tipo de trabajo', 'nivel de educación', 'grado de educación','estatus marital', \n",
    "'ocupación', 'situación sentimental', 'raza', 'sexo', 'ganancias de capital','pérdidas de capital', \n",
    "'horas de trabajo semanal', 'país de origen', 'sueldo']\n",
    "dfDatos = pd.DataFrame(arr, columns = atributos)\n",
    "dfPruebas = pd.DataFrame(arr_pruebas, columns = atributos)"
   ]
  },
  {
   "cell_type": "code",
   "execution_count": 43,
   "metadata": {},
   "outputs": [],
   "source": [
    "sEdad = dfDatos[['edad']].groupby('edad').size()\n",
    "fileEdad = open(\"analisis/edadesDatos.txt\", \"w\")\n",
    "for i in sEdad.index:\n",
    "    fileEdad.write(str(i)+\": \"+str(sEdad[i])+\"\\n\" )\n",
    "fileEdad.close()\n",
    "sEdad = dfPruebas[['edad']].groupby('edad').size()\n",
    "fileEdad = open(\"analisis/edadesPruebas.txt\", \"w\")\n",
    "for i in sEdad.index:\n",
    "    fileEdad.write(str(i)+\": \"+str(sEdad[i])+\"\\n\" )\n",
    "fileEdad.close()"
   ]
  },
  {
   "cell_type": "code",
   "execution_count": 54,
   "metadata": {},
   "outputs": [
    {
     "name": "stdout",
     "output_type": "stream",
     "text": [
      "ganancias de capital\n",
      "0        29849\n",
      "114          6\n",
      "401          2\n",
      "594         34\n",
      "914          8\n",
      "         ...  \n",
      "25236       11\n",
      "27828       34\n",
      "34095        5\n",
      "41310        2\n",
      "99999      159\n",
      "Length: 119, dtype: int64\n"
     ]
    }
   ],
   "source": [
    "sGanan = dfDatos[['ganancias de capital']].groupby('ganancias de capital').size()\n",
    "print(sGanan)\n",
    "fileEdad = open(\"analisis/gananciasCapital.txt\", \"w\")\n",
    "for i in sGanan.index:\n",
    "    fileEdad.write(str(i)+\": \"+str(sGanan[i])+\"\\n\" )\n",
    "fileEdad.close()"
   ]
  },
  {
   "cell_type": "code",
   "execution_count": 56,
   "metadata": {},
   "outputs": [
    {
     "name": "stdout",
     "output_type": "stream",
     "text": [
      "pérdidas de capital\n",
      "0       31042\n",
      "155         1\n",
      "213         4\n",
      "323         3\n",
      "419         3\n",
      "        ...  \n",
      "3004        2\n",
      "3683        2\n",
      "3770        2\n",
      "3900        2\n",
      "4356        3\n",
      "Length: 92, dtype: int64\n"
     ]
    }
   ],
   "source": [
    "sPerd = dfDatos[['pérdidas de capital']].groupby('pérdidas de capital').size()\n",
    "print(sPerd)\n",
    "fileEdad = open(\"analisis/perdidasCapital.txt\", \"w\")\n",
    "for i in sPerd.index:\n",
    "    fileEdad.write(str(i)+\": \"+str(sPerd[i])+\"\\n\" )\n",
    "fileEdad.close()"
   ]
  },
  {
   "cell_type": "code",
   "execution_count": 49,
   "metadata": {},
   "outputs": [
    {
     "ename": "NameError",
     "evalue": "name 'tfp' is not defined",
     "output_type": "error",
     "traceback": [
      "\u001b[0;31m---------------------------------------------------------------------------\u001b[0m",
      "\u001b[0;31mNameError\u001b[0m                                 Traceback (most recent call last)",
      "\u001b[0;32m<ipython-input-49-fcff72aca7c8>\u001b[0m in \u001b[0;36m<module>\u001b[0;34m\u001b[0m\n\u001b[1;32m      3\u001b[0m \u001b[0;34m\u001b[0m\u001b[0m\n\u001b[1;32m      4\u001b[0m \u001b[0;31m# corr[i, j] is the sample correlation between x[:, i, j] and y[:, i, j].\u001b[0m\u001b[0;34m\u001b[0m\u001b[0;34m\u001b[0m\u001b[0;34m\u001b[0m\u001b[0m\n\u001b[0;32m----> 5\u001b[0;31m \u001b[0mcorr\u001b[0m \u001b[0;34m=\u001b[0m \u001b[0mtfp\u001b[0m\u001b[0;34m.\u001b[0m\u001b[0mstats\u001b[0m\u001b[0;34m.\u001b[0m\u001b[0mcorrelation\u001b[0m\u001b[0;34m(\u001b[0m\u001b[0mx\u001b[0m\u001b[0;34m,\u001b[0m \u001b[0my\u001b[0m\u001b[0;34m,\u001b[0m \u001b[0msample_axis\u001b[0m\u001b[0;34m=\u001b[0m\u001b[0;36m0\u001b[0m\u001b[0;34m,\u001b[0m \u001b[0mevent_axis\u001b[0m\u001b[0;34m=\u001b[0m\u001b[0;32mNone\u001b[0m\u001b[0;34m)\u001b[0m\u001b[0;34m\u001b[0m\u001b[0;34m\u001b[0m\u001b[0m\n\u001b[0m\u001b[1;32m      6\u001b[0m \u001b[0;34m\u001b[0m\u001b[0m\n\u001b[1;32m      7\u001b[0m \u001b[0;31m# corr_matrix[i, m, n] is the sample correlation of x[:, i, m] and y[:, i, n]\u001b[0m\u001b[0;34m\u001b[0m\u001b[0;34m\u001b[0m\u001b[0;34m\u001b[0m\u001b[0m\n",
      "\u001b[0;31mNameError\u001b[0m: name 'tfp' is not defined"
     ]
    }
   ],
   "source": []
  },
  {
   "cell_type": "code",
   "execution_count": null,
   "metadata": {},
   "outputs": [],
   "source": []
  }
 ],
 "metadata": {
  "kernelspec": {
   "display_name": "Python 3",
   "language": "python",
   "name": "python3"
  },
  "language_info": {
   "codemirror_mode": {
    "name": "ipython",
    "version": 3
   },
   "file_extension": ".py",
   "mimetype": "text/x-python",
   "name": "python",
   "nbconvert_exporter": "python",
   "pygments_lexer": "ipython3",
   "version": "3.8.5"
  }
 },
 "nbformat": 4,
 "nbformat_minor": 4
}
